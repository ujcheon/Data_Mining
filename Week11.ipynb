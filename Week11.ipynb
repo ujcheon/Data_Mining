{
  "nbformat": 4,
  "nbformat_minor": 0,
  "metadata": {
    "colab": {
      "name": "Week11.ipynb",
      "provenance": [],
      "authorship_tag": "ABX9TyMPOdpcDqaw1P5TtxTWTzEl"
    },
    "kernelspec": {
      "name": "python3",
      "display_name": "Python 3"
    },
    "language_info": {
      "name": "python"
    }
  },
  "cells": [
    {
      "cell_type": "code",
      "metadata": {
        "colab": {
          "base_uri": "https://localhost:8080/"
        },
        "id": "gCSS8fIzalMm",
        "outputId": "08f251eb-0c0e-4582-b305-5aa494fce391"
      },
      "source": [
        "import tensorflow as tf\n",
        "from tensorflow import keras\n",
        "print(tf.__version__)\n",
        "print(keras.__version__)"
      ],
      "execution_count": 2,
      "outputs": [
        {
          "output_type": "stream",
          "text": [
            "2.4.1\n",
            "2.4.0\n"
          ],
          "name": "stdout"
        }
      ]
    },
    {
      "cell_type": "code",
      "metadata": {
        "colab": {
          "base_uri": "https://localhost:8080/"
        },
        "id": "7JYaswd9a4sP",
        "outputId": "c077ec4e-912a-49e6-f5c6-3e255b2e3899"
      },
      "source": [
        "fashion_mnist = keras.datasets.fashion_mnist\n",
        "(X_train_full,y_train_full), (X_test,y_test)= fashion_mnist.load_data()"
      ],
      "execution_count": 3,
      "outputs": [
        {
          "output_type": "stream",
          "text": [
            "Downloading data from https://storage.googleapis.com/tensorflow/tf-keras-datasets/train-labels-idx1-ubyte.gz\n",
            "32768/29515 [=================================] - 0s 0us/step\n",
            "Downloading data from https://storage.googleapis.com/tensorflow/tf-keras-datasets/train-images-idx3-ubyte.gz\n",
            "26427392/26421880 [==============================] - 0s 0us/step\n",
            "Downloading data from https://storage.googleapis.com/tensorflow/tf-keras-datasets/t10k-labels-idx1-ubyte.gz\n",
            "8192/5148 [===============================================] - 0s 0us/step\n",
            "Downloading data from https://storage.googleapis.com/tensorflow/tf-keras-datasets/t10k-images-idx3-ubyte.gz\n",
            "4423680/4422102 [==============================] - 0s 0us/step\n"
          ],
          "name": "stdout"
        }
      ]
    },
    {
      "cell_type": "code",
      "metadata": {
        "colab": {
          "base_uri": "https://localhost:8080/"
        },
        "id": "Buq1rpfTbUPo",
        "outputId": "b381fc6a-0533-4362-c7f0-62209fcdf398"
      },
      "source": [
        "print(X_train_full.shape)\n",
        "print(X_test.shape)"
      ],
      "execution_count": 4,
      "outputs": [
        {
          "output_type": "stream",
          "text": [
            "(60000, 28, 28)\n",
            "(10000, 28, 28)\n"
          ],
          "name": "stdout"
        }
      ]
    },
    {
      "cell_type": "code",
      "metadata": {
        "id": "uGluHTY9bbPG"
      },
      "source": [
        "# 훈련 세트의 일부분을 검증 세트로 만들고 입력 특성의 스케일을 0~1 사이 범위로 조정하기\n",
        "X_valid, X_train = X_train_full[:5000]/255.0 , X_train_full[5000:]/255.0\n",
        "y_valid, y_train = y_train_full[:5000], y_train_full[5000:]\n",
        "X_test = X_test/255.0"
      ],
      "execution_count": 5,
      "outputs": []
    },
    {
      "cell_type": "code",
      "metadata": {
        "id": "otdsrxfsbxn2"
      },
      "source": [
        "# 클래스 이름\n",
        "class_names = ['T-shirt/top','Trouser','Pullover','Dress','Coat','Sandal','Shirt','Sneaker','Bag','Ankle boot']"
      ],
      "execution_count": 6,
      "outputs": []
    },
    {
      "cell_type": "code",
      "metadata": {
        "colab": {
          "base_uri": "https://localhost:8080/"
        },
        "id": "97BEBakNcMBd",
        "outputId": "1e107099-108d-4f7c-c9db-93b839b6fa95"
      },
      "source": [
        "# MLP model 만들기\n",
        "model = keras.models.Sequential([keras.layers.Flatten(input_shape=[28,28], name='flatten'),\n",
        "                                 keras.layers.Dense(300,activation='relu', name='hidden1'),\n",
        "                                 keras.layers.Dense(100, activation='relu', name='hidden2'),\n",
        "                                 keras.layers.Dense(10, activation='softmax', name='output')])\n",
        "model.summary()"
      ],
      "execution_count": 7,
      "outputs": [
        {
          "output_type": "stream",
          "text": [
            "Model: \"sequential\"\n",
            "_________________________________________________________________\n",
            "Layer (type)                 Output Shape              Param #   \n",
            "=================================================================\n",
            "flatten (Flatten)            (None, 784)               0         \n",
            "_________________________________________________________________\n",
            "hidden1 (Dense)              (None, 300)               235500    \n",
            "_________________________________________________________________\n",
            "hidden2 (Dense)              (None, 100)               30100     \n",
            "_________________________________________________________________\n",
            "output (Dense)               (None, 10)                1010      \n",
            "=================================================================\n",
            "Total params: 266,610\n",
            "Trainable params: 266,610\n",
            "Non-trainable params: 0\n",
            "_________________________________________________________________\n"
          ],
          "name": "stdout"
        }
      ]
    },
    {
      "cell_type": "code",
      "metadata": {
        "colab": {
          "base_uri": "https://localhost:8080/",
          "height": 466
        },
        "id": "7gvAaKKGc2_y",
        "outputId": "9ed5ca3a-c37e-4c09-ff55-5d4a89db7236"
      },
      "source": [
        "# 모델 구조 시각화\n",
        "keras.utils.plot_model(model)"
      ],
      "execution_count": 8,
      "outputs": [
        {
          "output_type": "execute_result",
          "data": {
            "image/png": "[encoded data removed]",
            "text/plain": [
              "<IPython.core.display.Image object>"
            ]
          },
          "metadata": {
            "tags": []
          },
          "execution_count": 8
        }
      ]
    },
    {
      "cell_type": "code",
      "metadata": {
        "colab": {
          "base_uri": "https://localhost:8080/"
        },
        "id": "0ud8R0a7c_d3",
        "outputId": "fe8521e0-f78f-4da5-e35f-2aa1684a2ebe"
      },
      "source": [
        "# 모델 컴파일\n",
        "model.compile(loss='sparse_categorical_crossentropy', optimizer='sgd', metrics=['accuracy'])\n",
        "history= model.fit(X_train, y_train, epochs=30, validation_data=(X_valid,y_valid))"
      ],
      "execution_count": 9,
      "outputs": [
        {
          "output_type": "stream",
          "text": [
            "Epoch 1/30\n",
            "1719/1719 [==============================] - 5s 3ms/step - loss: 0.9756 - accuracy: 0.6852 - val_loss: 0.5033 - val_accuracy: 0.8340\n",
            "Epoch 2/30\n",
            "1719/1719 [==============================] - 5s 3ms/step - loss: 0.4989 - accuracy: 0.8272 - val_loss: 0.4487 - val_accuracy: 0.8468\n",
            "Epoch 3/30\n",
            "1719/1719 [==============================] - 5s 3ms/step - loss: 0.4458 - accuracy: 0.8435 - val_loss: 0.4691 - val_accuracy: 0.8298\n",
            "Epoch 4/30\n",
            "1719/1719 [==============================] - 5s 3ms/step - loss: 0.4190 - accuracy: 0.8523 - val_loss: 0.3954 - val_accuracy: 0.8630\n",
            "Epoch 5/30\n",
            "1719/1719 [==============================] - 5s 3ms/step - loss: 0.3959 - accuracy: 0.8604 - val_loss: 0.3835 - val_accuracy: 0.8690\n",
            "Epoch 6/30\n",
            "1719/1719 [==============================] - 5s 3ms/step - loss: 0.3797 - accuracy: 0.8677 - val_loss: 0.3735 - val_accuracy: 0.8718\n",
            "Epoch 7/30\n",
            "1719/1719 [==============================] - 5s 3ms/step - loss: 0.3643 - accuracy: 0.8703 - val_loss: 0.3712 - val_accuracy: 0.8712\n",
            "Epoch 8/30\n",
            "1719/1719 [==============================] - 5s 3ms/step - loss: 0.3606 - accuracy: 0.8709 - val_loss: 0.3523 - val_accuracy: 0.8760\n",
            "Epoch 9/30\n",
            "1719/1719 [==============================] - 5s 3ms/step - loss: 0.3408 - accuracy: 0.8805 - val_loss: 0.3497 - val_accuracy: 0.8776\n",
            "Epoch 10/30\n",
            "1719/1719 [==============================] - 5s 3ms/step - loss: 0.3391 - accuracy: 0.8790 - val_loss: 0.3452 - val_accuracy: 0.8802\n",
            "Epoch 11/30\n",
            "1719/1719 [==============================] - 5s 3ms/step - loss: 0.3274 - accuracy: 0.8826 - val_loss: 0.3407 - val_accuracy: 0.8804\n",
            "Epoch 12/30\n",
            "1719/1719 [==============================] - 5s 3ms/step - loss: 0.3288 - accuracy: 0.8797 - val_loss: 0.3397 - val_accuracy: 0.8802\n",
            "Epoch 13/30\n",
            "1719/1719 [==============================] - 5s 3ms/step - loss: 0.3093 - accuracy: 0.8899 - val_loss: 0.3396 - val_accuracy: 0.8778\n",
            "Epoch 14/30\n",
            "1719/1719 [==============================] - 5s 3ms/step - loss: 0.3039 - accuracy: 0.8907 - val_loss: 0.3373 - val_accuracy: 0.8776\n",
            "Epoch 15/30\n",
            "1719/1719 [==============================] - 5s 3ms/step - loss: 0.3035 - accuracy: 0.8902 - val_loss: 0.3275 - val_accuracy: 0.8796\n",
            "Epoch 16/30\n",
            "1719/1719 [==============================] - 5s 3ms/step - loss: 0.2938 - accuracy: 0.8944 - val_loss: 0.3520 - val_accuracy: 0.8750\n",
            "Epoch 17/30\n",
            "1719/1719 [==============================] - 5s 3ms/step - loss: 0.2869 - accuracy: 0.8970 - val_loss: 0.3411 - val_accuracy: 0.8800\n",
            "Epoch 18/30\n",
            "1719/1719 [==============================] - 5s 3ms/step - loss: 0.2808 - accuracy: 0.8977 - val_loss: 0.3162 - val_accuracy: 0.8816\n",
            "Epoch 19/30\n",
            "1719/1719 [==============================] - 5s 3ms/step - loss: 0.2800 - accuracy: 0.8996 - val_loss: 0.3094 - val_accuracy: 0.8886\n",
            "Epoch 20/30\n",
            "1719/1719 [==============================] - 5s 3ms/step - loss: 0.2768 - accuracy: 0.8998 - val_loss: 0.3104 - val_accuracy: 0.8890\n",
            "Epoch 21/30\n",
            "1719/1719 [==============================] - 5s 3ms/step - loss: 0.2685 - accuracy: 0.9042 - val_loss: 0.3112 - val_accuracy: 0.8892\n",
            "Epoch 22/30\n",
            "1719/1719 [==============================] - 5s 3ms/step - loss: 0.2603 - accuracy: 0.9048 - val_loss: 0.3116 - val_accuracy: 0.8902\n",
            "Epoch 23/30\n",
            "1719/1719 [==============================] - 5s 3ms/step - loss: 0.2566 - accuracy: 0.9072 - val_loss: 0.3116 - val_accuracy: 0.8926\n",
            "Epoch 24/30\n",
            "1719/1719 [==============================] - 5s 3ms/step - loss: 0.2508 - accuracy: 0.9095 - val_loss: 0.3318 - val_accuracy: 0.8818\n",
            "Epoch 25/30\n",
            "1719/1719 [==============================] - 5s 3ms/step - loss: 0.2543 - accuracy: 0.9082 - val_loss: 0.3068 - val_accuracy: 0.8916\n",
            "Epoch 26/30\n",
            "1719/1719 [==============================] - 5s 3ms/step - loss: 0.2450 - accuracy: 0.9115 - val_loss: 0.3039 - val_accuracy: 0.8960\n",
            "Epoch 27/30\n",
            "1719/1719 [==============================] - 5s 3ms/step - loss: 0.2397 - accuracy: 0.9136 - val_loss: 0.3092 - val_accuracy: 0.8910\n",
            "Epoch 28/30\n",
            "1719/1719 [==============================] - 5s 3ms/step - loss: 0.2351 - accuracy: 0.9155 - val_loss: 0.3306 - val_accuracy: 0.8832\n",
            "Epoch 29/30\n",
            "1719/1719 [==============================] - 5s 3ms/step - loss: 0.2293 - accuracy: 0.9175 - val_loss: 0.3008 - val_accuracy: 0.8926\n",
            "Epoch 30/30\n",
            "1719/1719 [==============================] - 5s 3ms/step - loss: 0.2268 - accuracy: 0.9202 - val_loss: 0.3060 - val_accuracy: 0.8914\n"
          ],
          "name": "stdout"
        }
      ]
    },
    {
      "cell_type": "code",
      "metadata": {
        "colab": {
          "base_uri": "https://localhost:8080/",
          "height": 324
        },
        "id": "75el5A76dfDT",
        "outputId": "cbe8400c-d1d6-4e95-8d98-091ce51a8179"
      },
      "source": [
        "import pandas as pd\n",
        "import matplotlib.pyplot as plt\n",
        "\n",
        "pd.DataFrame(history.history).plot(figsize=(8,5))\n",
        "plt.grid(True)\n",
        "plt.gca().set_ylim(0,1)\n",
        "plt.show()"
      ],
      "execution_count": 10,
      "outputs": [
        {
          "output_type": "display_data",
          "data": {
            "image/png": "[encoded data removed]",
            "text/plain": [
              "<Figure size 576x360 with 1 Axes>"
            ]
          },
          "metadata": {
            "tags": [],
            "needs_background": "light"
          }
        }
      ]
    },
    {
      "cell_type": "code",
      "metadata": {
        "colab": {
          "base_uri": "https://localhost:8080/"
        },
        "id": "EUNm_iFseZC6",
        "outputId": "d757dbee-9afd-4423-9826-066d270448ae"
      },
      "source": [
        "# 검증이 끝나고, 테스트 세트로 모델을 평가하여 일반화 오차를 추정한다. \n",
        "model.evaluate(X_test,y_test)"
      ],
      "execution_count": 11,
      "outputs": [
        {
          "output_type": "stream",
          "text": [
            "313/313 [==============================] - 0s 1ms/step - loss: 0.3309 - accuracy: 0.8836\n"
          ],
          "name": "stdout"
        },
        {
          "output_type": "execute_result",
          "data": {
            "text/plain": [
              "[0.3309383988380432, 0.8835999965667725]"
            ]
          },
          "metadata": {
            "tags": []
          },
          "execution_count": 11
        }
      ]
    },
    {
      "cell_type": "code",
      "metadata": {
        "colab": {
          "base_uri": "https://localhost:8080/"
        },
        "id": "bWn0y_kSedYJ",
        "outputId": "f96c490e-9f21-4102-8f4f-8b49b32c573e"
      },
      "source": [
        "# predict()를 이용해 새로운 샘플에 대해 예측을 만든다.\n",
        "# test 세트 처음 3개를 새로운 샘플로 간주\n",
        "import numpy as np\n",
        "X_new = X_test[:3]\n",
        "y_prob = model.predict(X_new)\n",
        "print(y_prob.round(2))\n",
        "y_pred = np.argmax(model.predict(X_new), axis=-1)\n",
        "np.array(class_names)[y_pred]\n"
      ],
      "execution_count": 12,
      "outputs": [
        {
          "output_type": "stream",
          "text": [
            "[[0.   0.   0.   0.   0.   0.01 0.   0.01 0.   0.99]\n",
            " [0.   0.   1.   0.   0.   0.   0.   0.   0.   0.  ]\n",
            " [0.   1.   0.   0.   0.   0.   0.   0.   0.   0.  ]]\n"
          ],
          "name": "stdout"
        },
        {
          "output_type": "execute_result",
          "data": {
            "text/plain": [
              "array(['Ankle boot', 'Pullover', 'Trouser'], dtype='<U11')"
            ]
          },
          "metadata": {
            "tags": []
          },
          "execution_count": 12
        }
      ]
    },
    {
      "cell_type": "code",
      "metadata": {
        "colab": {
          "base_uri": "https://localhost:8080/",
          "height": 227
        },
        "id": "LUYy6ER1fQBW",
        "outputId": "089928e3-1893-45f0-c0b1-0449263d18d3"
      },
      "source": [
        "# 천유정 1813128\n",
        "plt.figure(figsize=(10,10))\n",
        "for img in range(3):\n",
        "  plt.subplot(1,3,img+1)\n",
        "  plt.grid(False)\n",
        "  plt.imshow(X_new[img])\n",
        "  plt.xlabel(class_names[y_pred[img]])"
      ],
      "execution_count": 13,
      "outputs": [
        {
          "output_type": "display_data",
          "data": {
            "image/png": "[encoded data removed]",
            "text/plain": [
              "<Figure size 720x720 with 3 Axes>"
            ]
          },
          "metadata": {
            "tags": [],
            "needs_background": "light"
          }
        }
      ]
    },
    {
      "cell_type": "code",
      "metadata": {
        "id": "E5pTIYgnfiFH"
      },
      "source": [
        ""
      ],
      "execution_count": null,
      "outputs": []
    }
  ]
}