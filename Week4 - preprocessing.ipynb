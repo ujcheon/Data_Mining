{
 "cells": [
  {
   "cell_type": "code",
   "execution_count": 1,
   "metadata": {},
   "outputs": [
    {
     "name": "stdout",
     "output_type": "stream",
     "text": [
      "        sepal length in cm  sepal width in cm  petal length in cm  \\\n",
      "record                                                              \n",
      "0                      NaN                3.5                 1.4   \n",
      "1                      4.9                3.0                 1.4   \n",
      "2                      NaN                3.2                 1.3   \n",
      "3                      4.6                3.1                 1.5   \n",
      "4                      5.0                3.6                 1.4   \n",
      "\n",
      "        petal width in cm species  \n",
      "record                             \n",
      "0                     0.2  setosa  \n",
      "1                     0.2  setosa  \n",
      "2                     0.2  setosa  \n",
      "3                     0.2  setosa  \n",
      "4                     0.2  setosa  \n"
     ]
    }
   ],
   "source": [
    "import pandas as pd\n",
    "df = pd.read_csv('./data/iris_missing_values.csv')\n",
    "df.index.name = 'record'\n",
    "print(df.head())"
   ]
  },
  {
   "cell_type": "code",
   "execution_count": 2,
   "metadata": {},
   "outputs": [
    {
     "name": "stdout",
     "output_type": "stream",
     "text": [
      "True\n",
      "6\n"
     ]
    }
   ],
   "source": [
    "# get boolean (True/False) response for each datapoint for NaNs\n",
    "df['sepal length in cm'].isnull()\n",
    "\n",
    "# check if any missing values in column\n",
    "print(df['sepal length in cm'].isnull().values.any())\n",
    "\n",
    "# get number of many missing values in column\n",
    "print(df['sepal length in cm'].isnull().values.sum())"
   ]
  },
  {
   "cell_type": "code",
   "execution_count": 3,
   "metadata": {},
   "outputs": [
    {
     "name": "stdout",
     "output_type": "stream",
     "text": [
      "record\n",
      "0    example\n",
      "1        4.9\n",
      "2    example\n",
      "3        4.6\n",
      "4          5\n",
      "Name: sepal length in cm, dtype: object\n"
     ]
    }
   ],
   "source": [
    "# fill missing values with new values, store in new \"df_example\" dataframe\n",
    "df_example = df['sepal length in cm'].fillna('example')\n",
    "print(df_example.head())"
   ]
  },
  {
   "cell_type": "code",
   "execution_count": 4,
   "metadata": {},
   "outputs": [
    {
     "name": "stdout",
     "output_type": "stream",
     "text": [
      "        sepal length in cm  sepal width in cm  petal length in cm  \\\n",
      "record                                                              \n",
      "1                      4.9                3.0                 1.4   \n",
      "3                      4.6                3.1                 1.5   \n",
      "4                      5.0                3.6                 1.4   \n",
      "6                      4.6                3.4                 1.4   \n",
      "7                      5.0                3.4                 1.5   \n",
      "\n",
      "        petal width in cm species  \n",
      "record                             \n",
      "1                     0.2  setosa  \n",
      "3                     0.2  setosa  \n",
      "4                     0.2  setosa  \n",
      "6                     0.3  setosa  \n",
      "7                     0.2  setosa  \n"
     ]
    }
   ],
   "source": [
    "#drop rows with missing data\n",
    "df_dropped = df.dropna(axis=0)\n",
    "print(df_dropped.head())"
   ]
  },
  {
   "cell_type": "code",
   "execution_count": 5,
   "metadata": {},
   "outputs": [
    {
     "name": "stdout",
     "output_type": "stream",
     "text": [
      "Empty DataFrame\n",
      "Columns: []\n",
      "Index: [0, 1, 2, 3, 4]\n"
     ]
    }
   ],
   "source": [
    "# drop columns with missing data\n",
    "df_dropped = df.dropna(axis = 1)\n",
    "print(df_dropped.head())"
   ]
  },
  {
   "cell_type": "markdown",
   "metadata": {},
   "source": [
    "## 결측값 대체하기"
   ]
  },
  {
   "cell_type": "code",
   "execution_count": 6,
   "metadata": {},
   "outputs": [],
   "source": [
    "# import imputer module from Scikit-learn and istantiate imputer object\n",
    "from sklearn.impute import SimpleImputer\n",
    "import numpy as np\n",
    "imputer = SimpleImputer(missing_values=np.nan, strategy='mean')\n",
    "\n",
    "#define columns to impute on \n",
    "cols=['sepal length in cm','sepal width in cm','petal length in cm','petal width in cm']\n"
   ]
  },
  {
   "cell_type": "code",
   "execution_count": 9,
   "metadata": {},
   "outputs": [
    {
     "name": "stdout",
     "output_type": "stream",
     "text": [
      "   sepal length in cm  sepal width in cm  petal length in cm  \\\n",
      "0            5.870139                3.5                 1.4   \n",
      "1            4.900000                3.0                 1.4   \n",
      "2            5.870139                3.2                 1.3   \n",
      "3            4.600000                3.1                 1.5   \n",
      "4            5.000000                3.6                 1.4   \n",
      "\n",
      "   petal width in cm species  \n",
      "0                0.2  setosa  \n",
      "1                0.2  setosa  \n",
      "2                0.2  setosa  \n",
      "3                0.2  setosa  \n",
      "4                0.2  setosa  \n"
     ]
    }
   ],
   "source": [
    "# fit imputer and transform dataset, store in df_new 임퓨터 적합시키고 변환\n",
    "out_imp = imputer.fit_transform(df[cols])\n",
    "df_new = pd.DataFrame(data= out_imp, columns = cols)\n",
    "df_new = pd.concat([df_new,df[['species']]], axis=1)\n",
    "print(df_new.head())"
   ]
  },
  {
   "cell_type": "markdown",
   "metadata": {},
   "source": [
    "## MinMaxScaler()"
   ]
  },
  {
   "cell_type": "code",
   "execution_count": 10,
   "metadata": {},
   "outputs": [
    {
     "name": "stdout",
     "output_type": "stream",
     "text": [
      "[[       nan 0.68181818 0.06779661 0.04166667]\n",
      " [0.16666667 0.45454545 0.06779661 0.04166667]\n",
      " [       nan 0.54545455 0.05084746 0.04166667]\n",
      " [0.08333333 0.5        0.08474576 0.04166667]\n",
      " [0.19444444 0.72727273 0.06779661 0.04166667]\n",
      " [       nan 0.86363636 0.11864407 0.125     ]\n",
      " [0.08333333 0.63636364 0.06779661 0.08333333]\n",
      " [0.19444444 0.63636364 0.08474576 0.04166667]\n",
      " [0.02777778 0.40909091 0.06779661 0.04166667]\n",
      " [       nan        nan        nan        nan]]\n"
     ]
    }
   ],
   "source": [
    "# load module and instantiate scaler object\n",
    "from sklearn.preprocessing import MinMaxScaler\n",
    "scaler = MinMaxScaler()\n",
    "\n",
    "# nomalize the data and store in out_scaled numpy array\n",
    "out_scaled = scaler.fit_transform(df[cols])\n",
    "print(out_scaled[:10])"
   ]
  },
  {
   "cell_type": "markdown",
   "metadata": {},
   "source": [
    "## StandardScaler()"
   ]
  },
  {
   "cell_type": "code",
   "execution_count": 11,
   "metadata": {},
   "outputs": [
    {
     "name": "stdout",
     "output_type": "stream",
     "text": [
      "[[        nan  1.0873808  -1.3749907  -1.34813339]\n",
      " [-1.17061344 -0.10017475 -1.3749907  -1.34813339]\n",
      " [        nan  0.37484747 -1.4322009  -1.34813339]\n",
      " [-1.53260701  0.13733636 -1.3177805  -1.34813339]\n",
      " [-1.04994892  1.32489192 -1.3749907  -1.34813339]\n",
      " [        nan  2.03742525 -1.2033601  -1.08336972]\n",
      " [-1.53260701  0.84986969 -1.3749907  -1.21575155]\n",
      " [-1.04994892  0.84986969 -1.3177805  -1.34813339]\n",
      " [-1.77393605 -0.33768587 -1.3749907  -1.34813339]\n",
      " [        nan         nan         nan         nan]]\n"
     ]
    }
   ],
   "source": [
    "# load module and istantiate scaler object\n",
    "from sklearn.preprocessing import StandardScaler\n",
    "scaler = StandardScaler()\n",
    "\n",
    "# standardize the data and store in out_scaled numpy array\n",
    "out_scaled = scaler.fit_transform(df[cols])\n",
    "print(out_scaled[:10])"
   ]
  },
  {
   "cell_type": "code",
   "execution_count": null,
   "metadata": {},
   "outputs": [],
   "source": []
  }
 ],
 "metadata": {
  "kernelspec": {
   "display_name": "Python 3",
   "language": "python",
   "name": "python3"
  },
  "language_info": {
   "codemirror_mode": {
    "name": "ipython",
    "version": 3
   },
   "file_extension": ".py",
   "mimetype": "text/x-python",
   "name": "python",
   "nbconvert_exporter": "python",
   "pygments_lexer": "ipython3",
   "version": "3.8.5"
  }
 },
 "nbformat": 4,
 "nbformat_minor": 4
}
