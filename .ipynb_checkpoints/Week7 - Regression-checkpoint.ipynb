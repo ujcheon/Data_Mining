{
 "cells": [
  {
   "cell_type": "code",
   "execution_count": 5,
   "metadata": {},
   "outputs": [],
   "source": [
    "import numpy as np\n",
    "import pandas as pd\n",
    "import seaborn as sns\n",
    "from sklearn.datasets import load_boston\n",
    "from sklearn.model_selection import train_test_split\n",
    "\n",
    "def get_boston():\n",
    "    dataset = load_boston()\n",
    "    df = pd.DataFrame(dataset.data, columns = dataset.feature_names)\n",
    "    df['MEDV'] = dataset.target\n",
    "    df.index.name = 'record'\n",
    "    \n",
    "    # split into training and test sets\n",
    "    X_train, X_test, y_train, y_test = train_test_split(df.loc[:,df.columns != 'MEDV'],\n",
    "                        df['MEDV'],test_size =33, random_state = 42)\n",
    "    return [X_train, X_test,y_train, y_test ]\n"
   ]
  },
  {
   "cell_type": "code",
   "execution_count": 11,
   "metadata": {},
   "outputs": [
    {
     "name": "stdout",
     "output_type": "stream",
     "text": [
      "r2 score is = 0.7145863880722945\n"
     ]
    }
   ],
   "source": [
    "# Lasso Regression\n",
    "\n",
    "from sklearn.linear_model import Lasso\n",
    "from sklearn.metrics import r2_score\n",
    "\n",
    "X_train, X_test,y_train, y_test = get_boston()\n",
    "\n",
    "# instantiate classifier object and fit to training data\n",
    "clf = Lasso(alpha =0.3)\n",
    "clf.fit(X_train, y_train)\n",
    "\n",
    "#predict on test set and score the predictions against y_test\n",
    "y_pred = clf.predict(X_test)\n",
    "r2 = r2_score(y_test, y_pred)\n",
    "print( 'r2 score is = ' + str(r2))"
   ]
  },
  {
   "cell_type": "code",
   "execution_count": 12,
   "metadata": {},
   "outputs": [
    {
     "name": "stdout",
     "output_type": "stream",
     "text": [
      "r2 score is = 0.7158285735734202\n"
     ]
    }
   ],
   "source": [
    "# Ridge Regression\n",
    "\n",
    "from sklearn.linear_model import Ridge\n",
    "from sklearn.metrics import r2_score\n",
    "\n",
    "X_train, X_test,y_train, y_test = get_boston()\n",
    "\n",
    "# instantiate classifier object and fit to training data\n",
    "clf = Ridge(alpha =0.3)\n",
    "clf.fit(X_train, y_train)\n",
    "\n",
    "#predict on test set and score the predictions against y_test\n",
    "y_pred = clf.predict(X_test)\n",
    "r2 = r2_score(y_test, y_pred)\n",
    "print( 'r2 score is = ' + str(r2))"
   ]
  },
  {
   "cell_type": "code",
   "execution_count": null,
   "metadata": {},
   "outputs": [],
   "source": []
  }
 ],
 "metadata": {
  "kernelspec": {
   "display_name": "Python 3",
   "language": "python",
   "name": "python3"
  },
  "language_info": {
   "codemirror_mode": {
    "name": "ipython",
    "version": 3
   },
   "file_extension": ".py",
   "mimetype": "text/x-python",
   "name": "python",
   "nbconvert_exporter": "python",
   "pygments_lexer": "ipython3",
   "version": "3.8.5"
  }
 },
 "nbformat": 4,
 "nbformat_minor": 4
}
